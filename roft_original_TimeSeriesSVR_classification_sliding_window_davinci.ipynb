{
 "cells": [
  {
   "cell_type": "code",
   "execution_count": 1,
   "metadata": {},
   "outputs": [],
   "source": [
    "from collections import defaultdict\n",
    "import matplotlib.pyplot as plt\n",
    "import numpy as np\n",
    "import pandas as pd\n",
    "import random\n",
    "import re\n",
    "from scipy.stats import gmean, hmean\n",
    "from tqdm import tqdm\n",
    "from time import time\n",
    "import torch\n",
    "import pickle as pk\n",
    "from scipy.spatial.distance import cdist\n",
    "\n",
    "from tslearn.utils import to_time_series_dataset\n",
    "from tslearn.datasets import CachedDatasets\n",
    "from tslearn.preprocessing import TimeSeriesScalerMinMax\n",
    "from tslearn.svm import TimeSeriesSVC, TimeSeriesSVR\n",
    "\n",
    "from sklearn.tree import DecisionTreeClassifier\n",
    "from sklearn.model_selection import train_test_split\n",
    "from sklearn.metrics import classification_report, accuracy_score, mean_squared_error\n",
    "from sklearn.linear_model import LogisticRegression\n",
    "from sklearn.ensemble import GradientBoostingRegressor, GradientBoostingClassifier"
   ]
  },
  {
   "cell_type": "code",
   "execution_count": 2,
   "metadata": {},
   "outputs": [],
   "source": [
    "import sklearn"
   ]
  },
  {
   "cell_type": "code",
   "execution_count": 3,
   "metadata": {},
   "outputs": [
    {
     "data": {
      "text/plain": [
       "('1.24.4', '1.4.1.post1')"
      ]
     },
     "execution_count": 3,
     "metadata": {},
     "output_type": "execute_result"
    }
   ],
   "source": [
    "np.__version__, sklearn.__version__"
   ]
  },
  {
   "cell_type": "code",
   "execution_count": 4,
   "metadata": {},
   "outputs": [],
   "source": [
    "np.random.seed(42)\n",
    "random.seed(42)"
   ]
  },
  {
   "cell_type": "markdown",
   "metadata": {},
   "source": [
    "## Chosing dataset and domain"
   ]
  },
  {
   "cell_type": "code",
   "execution_count": 5,
   "metadata": {},
   "outputs": [
    {
     "name": "stdout",
     "output_type": "stream",
     "text": [
      "['human', 'davinci', 'baseline', 'ctrl-nocode', 'gpt2-xl', 'ctrl-Politics', 'finetuned', 'gpt2']\n"
     ]
    }
   ],
   "source": [
    "df = pd.read_csv(\"roft_duplicates_removed.csv\")\n",
    "print(list(set(df[\"model\"])))\n",
    "timeseries_df_1 = pd.read_csv(\"sliding_window_data/roft_filtered_dims_timeseries_PHD_100.csv\")\n",
    "chosen_model = 'davinci'"
   ]
  },
  {
   "cell_type": "code",
   "execution_count": 6,
   "metadata": {},
   "outputs": [
    {
     "name": "stdout",
     "output_type": "stream",
     "text": [
      "8943\n"
     ]
    },
    {
     "data": {
      "text/html": [
       "<div>\n",
       "<style scoped>\n",
       "    .dataframe tbody tr th:only-of-type {\n",
       "        vertical-align: middle;\n",
       "    }\n",
       "\n",
       "    .dataframe tbody tr th {\n",
       "        vertical-align: top;\n",
       "    }\n",
       "\n",
       "    .dataframe thead th {\n",
       "        text-align: right;\n",
       "    }\n",
       "</style>\n",
       "<table border=\"1\" class=\"dataframe\">\n",
       "  <thead>\n",
       "    <tr style=\"text-align: right;\">\n",
       "      <th></th>\n",
       "      <th>date</th>\n",
       "      <th>model</th>\n",
       "      <th>dataset</th>\n",
       "      <th>annotator</th>\n",
       "      <th>group</th>\n",
       "      <th>dec_strat_value</th>\n",
       "      <th>predicted_boundary_index</th>\n",
       "      <th>true_boundary_index</th>\n",
       "      <th>points</th>\n",
       "      <th>reason</th>\n",
       "      <th>...</th>\n",
       "      <th>prompt_body</th>\n",
       "      <th>generation</th>\n",
       "      <th>gen_body</th>\n",
       "      <th>recipe_familiarity</th>\n",
       "      <th>news_familiarity</th>\n",
       "      <th>stories_familiarity</th>\n",
       "      <th>gen_familiarity</th>\n",
       "      <th>native_speaker</th>\n",
       "      <th>read_guide</th>\n",
       "      <th>label</th>\n",
       "    </tr>\n",
       "  </thead>\n",
       "  <tbody>\n",
       "    <tr>\n",
       "      <th>0</th>\n",
       "      <td>2021-08-31 17:11:39.095000+00:00</td>\n",
       "      <td>finetuned</td>\n",
       "      <td>Recipes</td>\n",
       "      <td>1666</td>\n",
       "      <td>A</td>\n",
       "      <td>0.4</td>\n",
       "      <td>0</td>\n",
       "      <td>2</td>\n",
       "      <td>0</td>\n",
       "      <td>['9123971792800820313']</td>\n",
       "      <td>...</td>\n",
       "      <td>HOW TO MAKE: Baby Shell Pasta Salad With Kalam...</td>\n",
       "      <td>22877</td>\n",
       "      <td>Meanwhile, combine all dressing ingredients in...</td>\n",
       "      <td>2</td>\n",
       "      <td>3</td>\n",
       "      <td>5</td>\n",
       "      <td>2</td>\n",
       "      <td>Yes</td>\n",
       "      <td>NaN</td>\n",
       "      <td>2</td>\n",
       "    </tr>\n",
       "    <tr>\n",
       "      <th>1</th>\n",
       "      <td>2021-09-06 21:54:48.912000+00:00</td>\n",
       "      <td>finetuned</td>\n",
       "      <td>Recipes</td>\n",
       "      <td>1666</td>\n",
       "      <td>A</td>\n",
       "      <td>0.4</td>\n",
       "      <td>8</td>\n",
       "      <td>8</td>\n",
       "      <td>5</td>\n",
       "      <td>['irrelevant']</td>\n",
       "      <td>...</td>\n",
       "      <td>HOW TO MAKE: Nest Cookies\\nIngredients:\\n1 12 ...</td>\n",
       "      <td>26444</td>\n",
       "      <td>Photograph by fans blistering bens down!_SEP_F...</td>\n",
       "      <td>2</td>\n",
       "      <td>3</td>\n",
       "      <td>5</td>\n",
       "      <td>2</td>\n",
       "      <td>Yes</td>\n",
       "      <td>NaN</td>\n",
       "      <td>8</td>\n",
       "    </tr>\n",
       "    <tr>\n",
       "      <th>2</th>\n",
       "      <td>2021-09-06 21:55:07.069000+00:00</td>\n",
       "      <td>finetuned</td>\n",
       "      <td>Recipes</td>\n",
       "      <td>1666</td>\n",
       "      <td>A</td>\n",
       "      <td>0.4</td>\n",
       "      <td>0</td>\n",
       "      <td>7</td>\n",
       "      <td>0</td>\n",
       "      <td>['irrelevant']</td>\n",
       "      <td>...</td>\n",
       "      <td>HOW TO MAKE: Pink Lemonade Cupcakes\\nIngredien...</td>\n",
       "      <td>26089</td>\n",
       "      <td>Fill prepared pans two-thirds full._SEP_Bake f...</td>\n",
       "      <td>2</td>\n",
       "      <td>3</td>\n",
       "      <td>5</td>\n",
       "      <td>2</td>\n",
       "      <td>Yes</td>\n",
       "      <td>NaN</td>\n",
       "      <td>7</td>\n",
       "    </tr>\n",
       "    <tr>\n",
       "      <th>3</th>\n",
       "      <td>2021-09-06 21:58:44.944000+00:00</td>\n",
       "      <td>finetuned</td>\n",
       "      <td>Recipes</td>\n",
       "      <td>1666</td>\n",
       "      <td>A</td>\n",
       "      <td>0.4</td>\n",
       "      <td>1</td>\n",
       "      <td>7</td>\n",
       "      <td>0</td>\n",
       "      <td>['326860638652886185']</td>\n",
       "      <td>...</td>\n",
       "      <td>HOW TO MAKE: Beef Stroganaff\\nIngredients:\\n1 ...</td>\n",
       "      <td>25963</td>\n",
       "      <td>I have added some green peppers, red peppers, ...</td>\n",
       "      <td>2</td>\n",
       "      <td>3</td>\n",
       "      <td>5</td>\n",
       "      <td>2</td>\n",
       "      <td>Yes</td>\n",
       "      <td>NaN</td>\n",
       "      <td>7</td>\n",
       "    </tr>\n",
       "    <tr>\n",
       "      <th>4</th>\n",
       "      <td>2021-09-06 21:59:16.230000+00:00</td>\n",
       "      <td>finetuned</td>\n",
       "      <td>Recipes</td>\n",
       "      <td>1666</td>\n",
       "      <td>A</td>\n",
       "      <td>0.4</td>\n",
       "      <td>1</td>\n",
       "      <td>2</td>\n",
       "      <td>0</td>\n",
       "      <td>['repetition']</td>\n",
       "      <td>...</td>\n",
       "      <td>HOW TO MAKE: One-Pan Creamy Chicken and Veggie...</td>\n",
       "      <td>23225</td>\n",
       "      <td>Add frozen veggies and pasta._SEP_Pour in chic...</td>\n",
       "      <td>2</td>\n",
       "      <td>3</td>\n",
       "      <td>5</td>\n",
       "      <td>2</td>\n",
       "      <td>Yes</td>\n",
       "      <td>NaN</td>\n",
       "      <td>2</td>\n",
       "    </tr>\n",
       "  </tbody>\n",
       "</table>\n",
       "<p>5 rows × 21 columns</p>\n",
       "</div>"
      ],
      "text/plain": [
       "                               date      model  dataset  annotator group  \\\n",
       "0  2021-08-31 17:11:39.095000+00:00  finetuned  Recipes       1666     A   \n",
       "1  2021-09-06 21:54:48.912000+00:00  finetuned  Recipes       1666     A   \n",
       "2  2021-09-06 21:55:07.069000+00:00  finetuned  Recipes       1666     A   \n",
       "3  2021-09-06 21:58:44.944000+00:00  finetuned  Recipes       1666     A   \n",
       "4  2021-09-06 21:59:16.230000+00:00  finetuned  Recipes       1666     A   \n",
       "\n",
       "   dec_strat_value  predicted_boundary_index  true_boundary_index  points  \\\n",
       "0              0.4                         0                    2       0   \n",
       "1              0.4                         8                    8       5   \n",
       "2              0.4                         0                    7       0   \n",
       "3              0.4                         1                    7       0   \n",
       "4              0.4                         1                    2       0   \n",
       "\n",
       "                    reason  ...  \\\n",
       "0  ['9123971792800820313']  ...   \n",
       "1           ['irrelevant']  ...   \n",
       "2           ['irrelevant']  ...   \n",
       "3   ['326860638652886185']  ...   \n",
       "4           ['repetition']  ...   \n",
       "\n",
       "                                         prompt_body generation  \\\n",
       "0  HOW TO MAKE: Baby Shell Pasta Salad With Kalam...      22877   \n",
       "1  HOW TO MAKE: Nest Cookies\\nIngredients:\\n1 12 ...      26444   \n",
       "2  HOW TO MAKE: Pink Lemonade Cupcakes\\nIngredien...      26089   \n",
       "3  HOW TO MAKE: Beef Stroganaff\\nIngredients:\\n1 ...      25963   \n",
       "4  HOW TO MAKE: One-Pan Creamy Chicken and Veggie...      23225   \n",
       "\n",
       "                                            gen_body recipe_familiarity  \\\n",
       "0  Meanwhile, combine all dressing ingredients in...                  2   \n",
       "1  Photograph by fans blistering bens down!_SEP_F...                  2   \n",
       "2  Fill prepared pans two-thirds full._SEP_Bake f...                  2   \n",
       "3  I have added some green peppers, red peppers, ...                  2   \n",
       "4  Add frozen veggies and pasta._SEP_Pour in chic...                  2   \n",
       "\n",
       "   news_familiarity  stories_familiarity  gen_familiarity  native_speaker  \\\n",
       "0                 3                    5                2             Yes   \n",
       "1                 3                    5                2             Yes   \n",
       "2                 3                    5                2             Yes   \n",
       "3                 3                    5                2             Yes   \n",
       "4                 3                    5                2             Yes   \n",
       "\n",
       "  read_guide label  \n",
       "0        NaN     2  \n",
       "1        NaN     8  \n",
       "2        NaN     7  \n",
       "3        NaN     7  \n",
       "4        NaN     2  \n",
       "\n",
       "[5 rows x 21 columns]"
      ]
     },
     "execution_count": 6,
     "metadata": {},
     "output_type": "execute_result"
    }
   ],
   "source": [
    "print(len(df))\n",
    "df.head()"
   ]
  },
  {
   "cell_type": "code",
   "execution_count": 7,
   "metadata": {},
   "outputs": [
    {
     "data": {
      "text/plain": [
       "7391"
      ]
     },
     "execution_count": 7,
     "metadata": {},
     "output_type": "execute_result"
    }
   ],
   "source": [
    "df[df[\"model\"] == \"human\"].index[int(len(df[df[\"model\"] == \"human\"].index)*0.9)]"
   ]
  },
  {
   "cell_type": "code",
   "execution_count": 8,
   "metadata": {},
   "outputs": [
    {
     "data": {
      "text/plain": [
       "1273"
      ]
     },
     "execution_count": 8,
     "metadata": {},
     "output_type": "execute_result"
    }
   ],
   "source": [
    "len(df[df[\"model\"] == \"human\"])"
   ]
  },
  {
   "cell_type": "code",
   "execution_count": 9,
   "metadata": {},
   "outputs": [],
   "source": [
    "try:\n",
    "    df[\"label\"] = df[\"true_boundary_index\"]\n",
    "except:\n",
    "    pass"
   ]
  },
  {
   "cell_type": "code",
   "execution_count": 10,
   "metadata": {},
   "outputs": [
    {
     "data": {
      "text/plain": [
       "(8943, 1830, 7113)"
      ]
     },
     "execution_count": 10,
     "metadata": {},
     "output_type": "execute_result"
    }
   ],
   "source": [
    "CONDITION = df[\"model\"] == chosen_model\n",
    "NOT_CONDITION = df[\"model\"] != chosen_model\n",
    "len(CONDITION), sum(CONDITION), sum(NOT_CONDITION)"
   ]
  },
  {
   "cell_type": "code",
   "execution_count": 11,
   "metadata": {},
   "outputs": [],
   "source": [
    "def timeseries_df_division(timeseries_df):\n",
    "    timeseries_df = timeseries_df.astype({\"id\": \"int32\", \"time\": \"int32\"})\n",
    "\n",
    "    chosen_ids = list(CONDITION)\n",
    "    train_ids_nums = set()\n",
    "    test_ids_nums = set()\n",
    "\n",
    "    for i in range(len(chosen_ids)):\n",
    "        if chosen_ids[i]:\n",
    "            test_ids_nums.add(i)\n",
    "        else:\n",
    "            train_ids_nums.add(i)\n",
    "\n",
    "    df_for_train = df[NOT_CONDITION]\n",
    "    df_for_test = df[CONDITION]\n",
    "\n",
    "    timeseries_df_for_train = timeseries_df[timeseries_df[\"id\"].isin(train_ids_nums)]\n",
    "    timeseries_df_for_test = timeseries_df[timeseries_df[\"id\"].isin(test_ids_nums)]\n",
    "    print(len(timeseries_df_for_test), len(timeseries_df_for_train), len(timeseries_df))\n",
    "\n",
    "    y = df_for_train[\"label\"]\n",
    "    y_test = df_for_test[\"label\"]\n",
    "    \n",
    "    return timeseries_df, timeseries_df_for_train, timeseries_df_for_test, y, y_test"
   ]
  },
  {
   "cell_type": "code",
   "execution_count": 12,
   "metadata": {},
   "outputs": [
    {
     "name": "stdout",
     "output_type": "stream",
     "text": [
      "49908 310007 359915\n"
     ]
    }
   ],
   "source": [
    "timeseries_df, timeseries_df_for_train, timeseries_df_for_test, y, y_test = timeseries_df_division(timeseries_df_1)\n",
    "#timeseries_df_2, timeseries_df_for_train_2, \\\n",
    "#timeseries_df_for_test_2, y_2, y_test_2 = timeseries_df_division(timeseries_df_2)"
   ]
  },
  {
   "cell_type": "code",
   "execution_count": 13,
   "metadata": {},
   "outputs": [
    {
     "data": {
      "text/html": [
       "<div>\n",
       "<style scoped>\n",
       "    .dataframe tbody tr th:only-of-type {\n",
       "        vertical-align: middle;\n",
       "    }\n",
       "\n",
       "    .dataframe tbody tr th {\n",
       "        vertical-align: top;\n",
       "    }\n",
       "\n",
       "    .dataframe thead th {\n",
       "        text-align: right;\n",
       "    }\n",
       "</style>\n",
       "<table border=\"1\" class=\"dataframe\">\n",
       "  <thead>\n",
       "    <tr style=\"text-align: right;\">\n",
       "      <th></th>\n",
       "      <th>id</th>\n",
       "      <th>time</th>\n",
       "      <th>dim</th>\n",
       "    </tr>\n",
       "  </thead>\n",
       "  <tbody>\n",
       "    <tr>\n",
       "      <th>0</th>\n",
       "      <td>0</td>\n",
       "      <td>0</td>\n",
       "      <td>11.549488</td>\n",
       "    </tr>\n",
       "    <tr>\n",
       "      <th>1</th>\n",
       "      <td>0</td>\n",
       "      <td>1</td>\n",
       "      <td>10.722549</td>\n",
       "    </tr>\n",
       "    <tr>\n",
       "      <th>2</th>\n",
       "      <td>0</td>\n",
       "      <td>2</td>\n",
       "      <td>9.650902</td>\n",
       "    </tr>\n",
       "    <tr>\n",
       "      <th>3</th>\n",
       "      <td>0</td>\n",
       "      <td>3</td>\n",
       "      <td>9.989564</td>\n",
       "    </tr>\n",
       "    <tr>\n",
       "      <th>4</th>\n",
       "      <td>0</td>\n",
       "      <td>4</td>\n",
       "      <td>9.427729</td>\n",
       "    </tr>\n",
       "    <tr>\n",
       "      <th>...</th>\n",
       "      <td>...</td>\n",
       "      <td>...</td>\n",
       "      <td>...</td>\n",
       "    </tr>\n",
       "    <tr>\n",
       "      <th>359887</th>\n",
       "      <td>8940</td>\n",
       "      <td>28</td>\n",
       "      <td>9.686847</td>\n",
       "    </tr>\n",
       "    <tr>\n",
       "      <th>359888</th>\n",
       "      <td>8940</td>\n",
       "      <td>29</td>\n",
       "      <td>10.426505</td>\n",
       "    </tr>\n",
       "    <tr>\n",
       "      <th>359889</th>\n",
       "      <td>8940</td>\n",
       "      <td>30</td>\n",
       "      <td>10.989002</td>\n",
       "    </tr>\n",
       "    <tr>\n",
       "      <th>359890</th>\n",
       "      <td>8940</td>\n",
       "      <td>31</td>\n",
       "      <td>9.022205</td>\n",
       "    </tr>\n",
       "    <tr>\n",
       "      <th>359891</th>\n",
       "      <td>8940</td>\n",
       "      <td>32</td>\n",
       "      <td>11.081075</td>\n",
       "    </tr>\n",
       "  </tbody>\n",
       "</table>\n",
       "<p>310007 rows × 3 columns</p>\n",
       "</div>"
      ],
      "text/plain": [
       "          id  time        dim\n",
       "0          0     0  11.549488\n",
       "1          0     1  10.722549\n",
       "2          0     2   9.650902\n",
       "3          0     3   9.989564\n",
       "4          0     4   9.427729\n",
       "...      ...   ...        ...\n",
       "359887  8940    28   9.686847\n",
       "359888  8940    29  10.426505\n",
       "359889  8940    30  10.989002\n",
       "359890  8940    31   9.022205\n",
       "359891  8940    32  11.081075\n",
       "\n",
       "[310007 rows x 3 columns]"
      ]
     },
     "execution_count": 13,
     "metadata": {},
     "output_type": "execute_result"
    }
   ],
   "source": [
    "timeseries_df_for_train"
   ]
  },
  {
   "cell_type": "code",
   "execution_count": 14,
   "metadata": {},
   "outputs": [],
   "source": [
    "def lists_from_timeseries_df(timeseries_df, df):\n",
    "    X = []\n",
    "    y = []\n",
    "\n",
    "    for index in tqdm(set(timeseries_df[\"id\"])):\n",
    "        subdf = timeseries_df[timeseries_df[\"id\"] == index]\n",
    "        sample = []\n",
    "        for element in subdf[\"dim\"]:\n",
    "            sample.append(element)\n",
    "        X.append(sample)\n",
    "        y.append(df[\"label\"][index])\n",
    "\n",
    "    return X, y"
   ]
  },
  {
   "cell_type": "code",
   "execution_count": 15,
   "metadata": {},
   "outputs": [
    {
     "name": "stderr",
     "output_type": "stream",
     "text": [
      "100%|██████████████████████████████████████████████████████████████████████████████████████████████████████████████████████████████████████████████████████████████████| 7090/7090 [00:03<00:00, 2237.25it/s]\n"
     ]
    }
   ],
   "source": [
    "X_id, y_id = lists_from_timeseries_df(timeseries_df_for_train, df)"
   ]
  },
  {
   "cell_type": "code",
   "execution_count": 16,
   "metadata": {},
   "outputs": [
    {
     "name": "stderr",
     "output_type": "stream",
     "text": [
      "100%|██████████████████████████████████████████████████████████████████████████████████████████████████████████████████████████████████████████████████████████████████| 1802/1802 [00:00<00:00, 3182.62it/s]\n"
     ]
    }
   ],
   "source": [
    "X_ood, y_ood = lists_from_timeseries_df(timeseries_df_for_test, df)"
   ]
  },
  {
   "cell_type": "code",
   "execution_count": 17,
   "metadata": {},
   "outputs": [
    {
     "data": {
      "text/plain": [
       "(5672, 1418)"
      ]
     },
     "execution_count": 17,
     "metadata": {},
     "output_type": "execute_result"
    }
   ],
   "source": [
    "X_train, X_test, y_train, y_test = train_test_split(X_id, y_id, test_size=.2, random_state=42)\n",
    "#X_train, X_valid, y_train, y_valid = train_test_split(X_train, y_train, test_size=.33, random_state=42)\n",
    "len(X_train), len(X_test) #len(X_valid)"
   ]
  },
  {
   "cell_type": "code",
   "execution_count": 18,
   "metadata": {},
   "outputs": [
    {
     "data": {
      "text/plain": [
       "(5672, 1418, 1802)"
      ]
     },
     "execution_count": 18,
     "metadata": {},
     "output_type": "execute_result"
    }
   ],
   "source": [
    "X_train, X_test, X_ood = list(map(to_time_series_dataset, [X_train, X_test, X_ood]))\n",
    "\n",
    "len(X_train), len(X_test), len(X_ood)"
   ]
  },
  {
   "cell_type": "code",
   "execution_count": 19,
   "metadata": {},
   "outputs": [
    {
     "name": "stdout",
     "output_type": "stream",
     "text": [
      "7602 seconds\n"
     ]
    }
   ],
   "source": [
    "t1 = time()\n",
    "clf = TimeSeriesSVC(kernel=\"gak\", gamma=32768)\n",
    "clf.fit(X_train, y_train)\n",
    "t2 = time()\n",
    "print(int(t2-t1), \"seconds\")\n",
    "# 100  -   4 sec\n",
    "# 300  -  40 sec\n",
    "# 400  -  66 sec\n",
    "# 500  - 113 sec\n",
    "# 1000 - 403 sec"
   ]
  },
  {
   "cell_type": "code",
   "execution_count": 20,
   "metadata": {},
   "outputs": [
    {
     "name": "stdout",
     "output_type": "stream",
     "text": [
      "0.3138222849083216\n",
      "11.82299012693935\n",
      "0.020532741398446172\n",
      "27.030521642619313\n",
      "9152 seconds\n"
     ]
    }
   ],
   "source": [
    "t1 = time()\n",
    "prediction_result_test = clf.predict(X_test)\n",
    "print(accuracy_score(list(map(lambda x:int(round(x)), prediction_result_test)), y_test))\n",
    "print(mean_squared_error(list(map(lambda x:int(round(x)), prediction_result_test)), y_test))\n",
    "prediction_result_ood = clf.predict(X_ood)\n",
    "print(accuracy_score(list(map(lambda x:int(round(x)), prediction_result_ood)), y_ood))\n",
    "print(mean_squared_error(list(map(lambda x:int(round(x)), prediction_result_ood)), y_ood))\n",
    "t2 = time()\n",
    "print(int(t2-t1), \"seconds\")\n",
    "\n",
    "#  100 100 -  40 sec\n",
    "#  300 100 -  50 sec\n",
    "#  400 100 -  65 sec\n",
    "#  500 100 -  92 sec\n",
    "# 1000 100 -  82 sec\n",
    "# 2000 100 - 169 sec"
   ]
  },
  {
   "cell_type": "code",
   "execution_count": 21,
   "metadata": {},
   "outputs": [
    {
     "name": "stdout",
     "output_type": "stream",
     "text": [
      "0.5331452750352609\n",
      "0.1381798002219756\n"
     ]
    }
   ],
   "source": [
    "def weak_accuracy_score(y_pred, y):\n",
    "    acc = 0\n",
    "    assert(len(y_pred) == len(y))\n",
    "    for i in range(len(y_pred)):\n",
    "        if y_pred[i] == y[i] or y_pred[i] + 1 == y[i] or y_pred[i] - 1 == y[i]:\n",
    "            acc += 1\n",
    "    acc /= len(y_pred)\n",
    "    return acc\n",
    "\n",
    "print(weak_accuracy_score(list(map(lambda x:int(round(x)), prediction_result_test)), y_test))\n",
    "print(weak_accuracy_score(list(map(lambda x:int(round(x)), prediction_result_ood)), y_ood))"
   ]
  },
  {
   "cell_type": "code",
   "execution_count": 22,
   "metadata": {},
   "outputs": [],
   "source": [
    "prediction_result_train = clf.predict(X_train)"
   ]
  },
  {
   "cell_type": "code",
   "execution_count": 23,
   "metadata": {},
   "outputs": [],
   "source": [
    "filehandler = open(chosen_model+\"_SVM.pk\",\"wb\")\n",
    "pk.dump(clf,filehandler)\n",
    "filehandler.close()"
   ]
  },
  {
   "cell_type": "code",
   "execution_count": 24,
   "metadata": {},
   "outputs": [
    {
     "name": "stdout",
     "output_type": "stream",
     "text": [
      "0.31396332863187587\n",
      "0.5375176304654443\n",
      "11.651198871650212\n",
      "18797 seconds\n"
     ]
    }
   ],
   "source": [
    "t1 = time()\n",
    "prediction_result_id = clf.predict(to_time_series_dataset(X_id))\n",
    "print(accuracy_score(list(map(lambda x:int(round(x)), prediction_result_id)), y_id))\n",
    "print(weak_accuracy_score(list(map(lambda x:int(round(x)), prediction_result_id)), y_id))\n",
    "print(mean_squared_error(list(map(lambda x:int(round(x)), prediction_result_id)), y_id))\n",
    "t2 = time()\n",
    "print(int(t2-t1), \"seconds\")"
   ]
  },
  {
   "cell_type": "code",
   "execution_count": 26,
   "metadata": {},
   "outputs": [],
   "source": [
    "np.save(\"X_id_TimeSeriesSVC_on_\" + chosen_model + \"_PHD.npy\", prediction_result_id)\n",
    "np.save(\"X_ood_TimeSeriesSVC_on_\" + chosen_model + \"_PHD.npy\", prediction_result_ood)\n",
    "np.save(\"X_test_TimeSeriesSVC_on_\" + chosen_model + \"_PHD.npy\", prediction_result_test)\n",
    "np.save(\"X_train_TimeSeriesSVC_on_\" + chosen_model + \"_PHD.npy\", prediction_result_train)"
   ]
  },
  {
   "cell_type": "code",
   "execution_count": null,
   "metadata": {},
   "outputs": [],
   "source": []
  }
 ],
 "metadata": {
  "kernelspec": {
   "display_name": "myenv",
   "language": "python",
   "name": "myenv"
  },
  "language_info": {
   "codemirror_mode": {
    "name": "ipython",
    "version": 3
   },
   "file_extension": ".py",
   "mimetype": "text/x-python",
   "name": "python",
   "nbconvert_exporter": "python",
   "pygments_lexer": "ipython3",
   "version": "3.9.18"
  }
 },
 "nbformat": 4,
 "nbformat_minor": 2
}
